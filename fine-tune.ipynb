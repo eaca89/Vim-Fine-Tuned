{
 "cells": [
  {
   "cell_type": "code",
   "execution_count": null,
   "metadata": {},
   "outputs": [],
   "source": [
    "import torch\n",
    "import torch.nn as nn\n",
    "import torch.optim as optim\n",
    "from torch.utils.data import DataLoader, Dataset\n",
    "from torchvision import transforms\n",
    "from PIL import Image"
   ]
  },
  {
   "cell_type": "code",
   "execution_count": null,
   "metadata": {},
   "outputs": [],
   "source": [
    "# Assuming VisionMamba is already defined and available\n",
    "class CustomBinaryDataset(Dataset):\n",
    "    def __init__(self, image_paths, labels, transform=None):\n",
    "        self.image_paths = image_paths\n",
    "        self.labels = labels\n",
    "        self.transform = transform\n",
    "\n",
    "    def __len__(self):\n",
    "        return len(self.image_paths)\n",
    "\n",
    "    def __getitem__(self, idx):\n",
    "        image = Image.open(self.image_paths[idx]).convert(\"RGB\")\n",
    "        label = self.labels[idx]\n",
    "        if self.transform:\n",
    "            image = self.transform(image)\n",
    "        return image, label"
   ]
  },
  {
   "cell_type": "code",
   "execution_count": null,
   "metadata": {},
   "outputs": [],
   "source": [
    "# Define the transformations (resize, to tensor, and normalize)\n",
    "transform = transforms.Compose([\n",
    "    transforms.Resize((224, 224)),\n",
    "    transforms.ToTensor(),\n",
    "    transforms.Normalize(mean=[0.485, 0.456, 0.406],\n",
    "                         std=[0.229, 0.224, 0.225]),\n",
    "])\n",
    "\n",
    "# Example: paths to your images and their corresponding binary labels\n",
    "# Add your image paths here\n",
    "image_paths = [\"path/to/image1.jpg\", \"path/to/image2.jpg\", ...]\n",
    "labels = [0, 1, ...]  # Add your corresponding labels (0 or 1)\n",
    "\n",
    "# Create the dataset and dataloader\n",
    "dataset = CustomBinaryDataset(image_paths, labels, transform=transform)\n",
    "dataloader = DataLoader(dataset, batch_size=8, shuffle=True)"
   ]
  },
  {
   "cell_type": "code",
   "execution_count": null,
   "metadata": {},
   "outputs": [],
   "source": [
    "# Initialize the model (make sure the architecture is defined and matches the loaded model)\n",
    "model = VisionMamba(\n",
    "    patch_size=16,\n",
    "    stride=8,\n",
    "    embed_dim=384,\n",
    "    depth=24,\n",
    "    rms_norm=True,\n",
    "    residual_in_fp32=True,\n",
    "    fused_add_norm=True,\n",
    "    final_pool_type='mean',\n",
    "    if_abs_pos_embed=True,\n",
    "    if_rope=False,\n",
    "    if_rope_residual=False,\n",
    "    bimamba_type=\"v2\",\n",
    "    if_cls_token=True,\n",
    "    if_devide_out=True,\n",
    "    use_middle_cls_token=True,\n",
    "    num_classes=1000,  # Original number of classes\n",
    "    drop_rate=0.0,\n",
    "    drop_path_rate=0.1,\n",
    "    drop_block_rate=None,\n",
    "    img_size=224,\n",
    ")\n",
    "\n",
    "# Modify the head for binary classification\n",
    "model.head = nn.Linear(in_features=384, out_features=2)\n",
    "\n",
    "# Load the pretrained model weights\n",
    "checkpoint = torch.load(\"path/to/your/checkpoint.pth\", map_location=\"cpu\")\n",
    "model.load_state_dict(checkpoint[\"model\"])\n",
    "\n",
    "# Set model to training mode\n",
    "model.train()"
   ]
  },
  {
   "cell_type": "code",
   "execution_count": null,
   "metadata": {},
   "outputs": [],
   "source": [
    "# Move model to GPU if available\n",
    "device = torch.device(\"cuda\" if torch.cuda.is_available() else \"cpu\")\n",
    "model.to(device)\n",
    "\n",
    "# Define loss function and optimizer\n",
    "criterion = nn.CrossEntropyLoss()\n",
    "optimizer = optim.Adam(model.parameters(), lr=1e-4)\n",
    "\n",
    "# Fine-tuning loop\n",
    "num_epochs = 10"
   ]
  },
  {
   "cell_type": "code",
   "execution_count": null,
   "metadata": {},
   "outputs": [],
   "source": [
    "for epoch in range(num_epochs):\n",
    "    running_loss = 0.0\n",
    "    for images, labels in dataloader:\n",
    "        images, labels = images.to(device), labels.to(device)\n",
    "\n",
    "        optimizer.zero_grad()\n",
    "\n",
    "        outputs = model(images)\n",
    "        loss = criterion(outputs, labels)\n",
    "        loss.backward()\n",
    "        optimizer.step()\n",
    "\n",
    "        running_loss += loss.item()\n",
    "\n",
    "    print(\n",
    "        f\"Epoch [{epoch+1}/{num_epochs}], Loss: {running_loss/len(dataloader)}\")\n",
    "\n",
    "# Save the fine-tuned model\n",
    "torch.save(model.state_dict(), \"fine_tuned_vision_mamba.pth\")\n",
    "\n",
    "# Set model to evaluation mode\n",
    "model.eval()"
   ]
  },
  {
   "cell_type": "code",
   "execution_count": null,
   "metadata": {},
   "outputs": [],
   "source": [
    "# Example: Making a prediction\n",
    "with torch.no_grad():\n",
    "    test_image = Image.open(\"path/to/test/image.jpg\").convert(\"RGB\")\n",
    "    test_image = transform(test_image).unsqueeze(0).to(device)\n",
    "    prediction = model(test_image)\n",
    "    predicted_class = torch.argmax(prediction, dim=1).item()\n",
    "    print(f\"Predicted class: {predicted_class}\")"
   ]
  }
 ],
 "metadata": {
  "kernelspec": {
   "display_name": "Python 3",
   "language": "python",
   "name": "python3"
  },
  "language_info": {
   "name": "python",
   "version": "3.10.14"
  }
 },
 "nbformat": 4,
 "nbformat_minor": 2
}
