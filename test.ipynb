{
 "cells": [
  {
   "cell_type": "code",
   "execution_count": 1,
   "metadata": {},
   "outputs": [
    {
     "name": "stderr",
     "output_type": "stream",
     "text": [
      "/home/eh_abdol/.conda/envs/vim/lib/python3.10/site-packages/tqdm/auto.py:21: TqdmWarning: IProgress not found. Please update jupyter and ipywidgets. See https://ipywidgets.readthedocs.io/en/stable/user_install.html\n",
      "  from .autonotebook import tqdm as notebook_tqdm\n"
     ]
    }
   ],
   "source": [
    "from vim.models_mamba import VisionMamba\n",
    "from pathlib import PurePath\n",
    "import torch\n",
    "import sys\n",
    "import os\n",
    "# Get the absolute path of the vim directory\n",
    "vim_path = os.path.abspath('vim')\n",
    "# Add the vim directory to the system path\n",
    "sys.path.append(vim_path)"
   ]
  },
  {
   "cell_type": "code",
   "execution_count": 2,
   "metadata": {},
   "outputs": [
    {
     "name": "stdout",
     "output_type": "stream",
     "text": [
      "/home/eh_abdol/.cache/huggingface/hub/models--hustvl--Vim-small-midclstok/snapshots/babc4440f5fab6e08d97e371afa639c8cf98bf2c/vim_s_midclstok_ft_81p6acc.pth\n"
     ]
    }
   ],
   "source": [
    "from huggingface_hub import snapshot_download\n",
    "\n",
    "VIM_REPO = \"hustvl/Vim-small-midclstok\"\n",
    "\n",
    "pretrained_model_dir = snapshot_download(\n",
    "    repo_id=VIM_REPO,\n",
    "    # Comment the next line the first time to have the files be\n",
    "    # downloaded.\n",
    "    local_files_only=True\n",
    ")\n",
    "\n",
    "MODEL_FILE = PurePath(pretrained_model_dir, \"vim_s_midclstok_ft_81p6acc.pth\")\n",
    "print(MODEL_FILE)"
   ]
  },
  {
   "cell_type": "code",
   "execution_count": 3,
   "metadata": {},
   "outputs": [],
   "source": [
    "model = VisionMamba(\n",
    "    patch_size=16,\n",
    "    stride=8,\n",
    "    embed_dim=384,\n",
    "    depth=24,\n",
    "    rms_norm=True,\n",
    "    residual_in_fp32=True,\n",
    "    fused_add_norm=True,\n",
    "    final_pool_type='mean',\n",
    "    if_abs_pos_embed=True,\n",
    "    if_rope=False,\n",
    "    if_rope_residual=False,\n",
    "    bimamba_type=\"v2\",\n",
    "    if_cls_token=True,\n",
    "    if_devide_out=True,\n",
    "    use_middle_cls_token=True,\n",
    "    num_classes=1000,\n",
    "    drop_rate=0.0,\n",
    "    drop_path_rate=0.1,\n",
    "    drop_block_rate=None,\n",
    "    img_size=224,\n",
    ")"
   ]
  },
  {
   "cell_type": "code",
   "execution_count": 4,
   "metadata": {},
   "outputs": [
    {
     "name": "stdout",
     "output_type": "stream",
     "text": [
      "VisionMamba(\n",
      "  (patch_embed): PatchEmbed(\n",
      "    (proj): Conv2d(3, 384, kernel_size=(16, 16), stride=(8, 8))\n",
      "    (norm): Identity()\n",
      "  )\n",
      "  (pos_drop): Dropout(p=0.0, inplace=False)\n",
      "  (head): Linear(in_features=384, out_features=1000, bias=True)\n",
      "  (drop_path): DropPath()\n",
      "  (layers): ModuleList(\n",
      "    (0-1): 2 x Block(\n",
      "      (mixer): Mamba(\n",
      "        (in_proj): Linear(in_features=384, out_features=1536, bias=False)\n",
      "        (conv1d): Conv1d(768, 768, kernel_size=(4,), stride=(1,), padding=(3,), groups=768)\n",
      "        (act): SiLU()\n",
      "        (x_proj): Linear(in_features=768, out_features=56, bias=False)\n",
      "        (dt_proj): Linear(in_features=24, out_features=768, bias=True)\n",
      "        (conv1d_b): Conv1d(768, 768, kernel_size=(4,), stride=(1,), padding=(3,), groups=768)\n",
      "        (x_proj_b): Linear(in_features=768, out_features=56, bias=False)\n",
      "        (dt_proj_b): Linear(in_features=24, out_features=768, bias=True)\n",
      "        (out_proj): Linear(in_features=768, out_features=384, bias=False)\n",
      "      )\n",
      "      (norm): RMSNorm()\n",
      "      (drop_path): Identity()\n",
      "    )\n",
      "    (2-23): 22 x Block(\n",
      "      (mixer): Mamba(\n",
      "        (in_proj): Linear(in_features=384, out_features=1536, bias=False)\n",
      "        (conv1d): Conv1d(768, 768, kernel_size=(4,), stride=(1,), padding=(3,), groups=768)\n",
      "        (act): SiLU()\n",
      "        (x_proj): Linear(in_features=768, out_features=56, bias=False)\n",
      "        (dt_proj): Linear(in_features=24, out_features=768, bias=True)\n",
      "        (conv1d_b): Conv1d(768, 768, kernel_size=(4,), stride=(1,), padding=(3,), groups=768)\n",
      "        (x_proj_b): Linear(in_features=768, out_features=56, bias=False)\n",
      "        (dt_proj_b): Linear(in_features=24, out_features=768, bias=True)\n",
      "        (out_proj): Linear(in_features=768, out_features=384, bias=False)\n",
      "      )\n",
      "      (norm): RMSNorm()\n",
      "      (drop_path): DropPath()\n",
      "    )\n",
      "  )\n",
      "  (norm_f): RMSNorm()\n",
      ")\n"
     ]
    }
   ],
   "source": [
    "print(model)"
   ]
  },
  {
   "cell_type": "code",
   "execution_count": 6,
   "metadata": {},
   "outputs": [
    {
     "data": {
      "text/plain": [
       "<All keys matched successfully>"
      ]
     },
     "execution_count": 6,
     "metadata": {},
     "output_type": "execute_result"
    }
   ],
   "source": [
    "checkpoint = torch.load(str(MODEL_FILE), map_location='cpu')\n",
    "# Important: make sure the values of this match what's used to instantiate the VisionMamba class.\n",
    "# If not, loading the checkpoint will fail.\n",
    "checkpoint[\"args\"]\n",
    "\n",
    "model.load_state_dict(checkpoint[\"model\"])"
   ]
  },
  {
   "cell_type": "code",
   "execution_count": 7,
   "metadata": {},
   "outputs": [
    {
     "data": {
      "text/plain": [
       "VisionMamba(\n",
       "  (patch_embed): PatchEmbed(\n",
       "    (proj): Conv2d(3, 384, kernel_size=(16, 16), stride=(8, 8))\n",
       "    (norm): Identity()\n",
       "  )\n",
       "  (pos_drop): Dropout(p=0.0, inplace=False)\n",
       "  (head): Linear(in_features=384, out_features=1000, bias=True)\n",
       "  (drop_path): DropPath()\n",
       "  (layers): ModuleList(\n",
       "    (0-1): 2 x Block(\n",
       "      (mixer): Mamba(\n",
       "        (in_proj): Linear(in_features=384, out_features=1536, bias=False)\n",
       "        (conv1d): Conv1d(768, 768, kernel_size=(4,), stride=(1,), padding=(3,), groups=768)\n",
       "        (act): SiLU()\n",
       "        (x_proj): Linear(in_features=768, out_features=56, bias=False)\n",
       "        (dt_proj): Linear(in_features=24, out_features=768, bias=True)\n",
       "        (conv1d_b): Conv1d(768, 768, kernel_size=(4,), stride=(1,), padding=(3,), groups=768)\n",
       "        (x_proj_b): Linear(in_features=768, out_features=56, bias=False)\n",
       "        (dt_proj_b): Linear(in_features=24, out_features=768, bias=True)\n",
       "        (out_proj): Linear(in_features=768, out_features=384, bias=False)\n",
       "      )\n",
       "      (norm): RMSNorm()\n",
       "      (drop_path): Identity()\n",
       "    )\n",
       "    (2-23): 22 x Block(\n",
       "      (mixer): Mamba(\n",
       "        (in_proj): Linear(in_features=384, out_features=1536, bias=False)\n",
       "        (conv1d): Conv1d(768, 768, kernel_size=(4,), stride=(1,), padding=(3,), groups=768)\n",
       "        (act): SiLU()\n",
       "        (x_proj): Linear(in_features=768, out_features=56, bias=False)\n",
       "        (dt_proj): Linear(in_features=24, out_features=768, bias=True)\n",
       "        (conv1d_b): Conv1d(768, 768, kernel_size=(4,), stride=(1,), padding=(3,), groups=768)\n",
       "        (x_proj_b): Linear(in_features=768, out_features=56, bias=False)\n",
       "        (dt_proj_b): Linear(in_features=24, out_features=768, bias=True)\n",
       "        (out_proj): Linear(in_features=768, out_features=384, bias=False)\n",
       "      )\n",
       "      (norm): RMSNorm()\n",
       "      (drop_path): DropPath()\n",
       "    )\n",
       "  )\n",
       "  (norm_f): RMSNorm()\n",
       ")"
      ]
     },
     "execution_count": 7,
     "metadata": {},
     "output_type": "execute_result"
    }
   ],
   "source": [
    "model.eval()\n",
    "model.to(\"cuda\")"
   ]
  },
  {
   "cell_type": "code",
   "execution_count": 8,
   "metadata": {},
   "outputs": [],
   "source": [
    "from PIL import Image\n",
    "from torchvision import transforms\n",
    "from timm.data.constants import IMAGENET_DEFAULT_MEAN, IMAGENET_DEFAULT_STD\n",
    "\n",
    "test_image = Image.open(\"test.jpg\")\n",
    "test_image = test_image.resize((224, 224))\n",
    "image_as_tensor = transforms.ToTensor()(test_image)\n",
    "normalized_tensor = transforms.Normalize(\n",
    "    IMAGENET_DEFAULT_MEAN, IMAGENET_DEFAULT_STD)(image_as_tensor)"
   ]
  },
  {
   "cell_type": "code",
   "execution_count": 9,
   "metadata": {},
   "outputs": [
    {
     "data": {
      "text/plain": [
       "tensor(0, device='cuda:0')"
      ]
     },
     "execution_count": 9,
     "metadata": {},
     "output_type": "execute_result"
    }
   ],
   "source": [
    "# test_image\n",
    "x = normalized_tensor.unsqueeze(0).cuda()\n",
    "pred = model(x)\n",
    "# Note: the returned label can be verified with https://deeplearning.cms.waikato.ac.nz/user-guide/class-maps/IMAGENET/\n",
    "pred.argmax()"
   ]
  }
 ],
 "metadata": {
  "kernelspec": {
   "display_name": "Python 3",
   "language": "python",
   "name": "python3"
  },
  "language_info": {
   "codemirror_mode": {
    "name": "ipython",
    "version": 3
   },
   "file_extension": ".py",
   "mimetype": "text/x-python",
   "name": "python",
   "nbconvert_exporter": "python",
   "pygments_lexer": "ipython3",
   "version": "3.10.14"
  }
 },
 "nbformat": 4,
 "nbformat_minor": 2
}
